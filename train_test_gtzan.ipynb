{
 "cells": [
  {
   "cell_type": "markdown",
   "metadata": {
    "id": "dzV9wsJ5pGhf"
   },
   "source": [
    "# <img src=\"https://img.icons8.com/bubbles/50/000000/mind-map.png\" style=\"height:50px;display:inline\"> ECE 046211 - Technion - Deep Learning\n",
    "---\n",
    "\n",
    "## Project\n",
    "---"
   ]
  },
  {
   "cell_type": "markdown",
   "metadata": {},
   "source": [
    "Install packages that are not part of the basic virtual environment defined on the ReadMe."
   ]
  },
  {
   "cell_type": "markdown",
   "metadata": {},
   "source": [
    "Import relevant packages"
   ]
  },
  {
   "cell_type": "code",
   "execution_count": 29,
   "metadata": {},
   "outputs": [],
   "source": [
    "from datasets import load_dataset, Audio,DatasetDict, Dataset, concatenate_datasets\n",
    "import numpy as np\n",
    "from transformers import AutoFeatureExtractor, TrainingArguments, Trainer,AutoConfig\n",
    "import evaluate\n",
    "import torch\n",
    "import gc\n",
    "from sklearn import metrics\n",
    "import matplotlib.pyplot as plt\n",
    "from model.AST_FineTunedModel import AST\n",
    "import torchaudio\n",
    "import pandas as pd\n",
    "from tqdm import tqdm\n",
    "import optuna\n",
    "import os"
   ]
  },
  {
   "cell_type": "markdown",
   "metadata": {},
   "source": [
    "Audio Augmentation on the dataset:\n",
    "By using TorchAudio AudioEffector and FFmpeg effects, creating random new data."
   ]
  },
  {
   "cell_type": "code",
   "execution_count": 30,
   "metadata": {},
   "outputs": [],
   "source": [
    "# Auxiliry function that applies an effects(Audio augmentation) on a waveform\n",
    "def apply_effect(waveform, sample_rate, effect, base_path, key_effect):\n",
    "    effector = torchaudio.io.AudioEffector(effect=effect)\n",
    "    new_wf = effector.apply(waveform, sample_rate)\n",
    "    if waveform.shape[0] < new_wf.shape[0]:\n",
    "      start_idx = np.random.randint(0, new_wf.shape[0] - waveform.shape[0])\n",
    "      end_idx = start_idx + waveform.shape[0]\n",
    "      new_wf = new_wf[start_idx:end_idx, :]\n",
    "      assert new_wf.shape[0] == waveform.shape[0]\n",
    "    new_path = base_path.replace(\".wav\",f\".{key_effect}.wav\")\n",
    "    torchaudio.save(new_path, new_wf, sample_rate, channels_first=False)\n",
    "    return new_path\n",
    "\n",
    "#Display the spectrogram of a waveform\n",
    "def show(result,sr, *, stereo=False):\n",
    "    figsize = (6.4, 2.1 if stereo else 1.2)\n",
    "    num_channels = result.size(1)\n",
    "    f, ax = plt.subplots(num_channels, 1, squeeze=False, figsize=figsize, sharex=True)\n",
    "    for i in range(num_channels):\n",
    "        ax[i][0].specgram(result[:, i], Fs=sr)\n",
    "    f.set_tight_layout(True)\n",
    "    return result\n",
    "\n",
    "#Add augmented samples to given datasets\n",
    "def Audio_Augmentation(dataset):\n",
    "  features = dataset.features\n",
    "  new_data = {\"file\":[],\"audio\":[],\"genre\":[]}\n",
    "  for i in tqdm(range(len(dataset))):\n",
    "    file = dataset[i]\n",
    "    # Upload the original audio waveform\n",
    "    waveform , sr = torchaudio.load(file['file'], channels_first=False)\n",
    "    # Create a random fast paced sample from the original audio\n",
    "    fast_path = apply_effect(waveform,sr,f\"atempo={np.random.randint(low=16,high=20)/10}\",file[\"file\"],\"fast\")\n",
    "    # Create a random slow paced sample from the original audio\n",
    "    slow_path = apply_effect(waveform,sr,f\"atempo={np.random.randint(low=6,high=9)/10}\",file[\"file\"],\"slow\")\n",
    "    # Create a random high pass filtered sample from the original audio\n",
    "    highpass_path = apply_effect(waveform,sr,f\"highpass=frequency={np.random.randint(low=1400,high=1600)}\", file[\"file\"], \"highpass\")\n",
    "    # Create a random low pass filtered sample from the original audio\n",
    "    lowpass_path = apply_effect(waveform,sr,f\"lowpass=frequency={np.random.randint(low=900,high=1100)}\", file[\"file\"], \"lowpass\")\n",
    "    # Create a sample from the original audio which contains echos of itself simulating a random sound barrier that reflects the sound \n",
    "    random_in_gain = np.random.randint(low=60,high=99)/100\n",
    "    random_out_gain = np.random.randint(low=60,high=99)/100\n",
    "    random_delay = np.random.randint(low=50,high=500)\n",
    "    random_decay = np.random.randint(low=2,high=5)/10\n",
    "    echo_path = apply_effect(waveform,sr,f\"aecho=in_gain={random_in_gain}:out_gain={random_out_gain}:delays={random_delay}:decays={random_decay}\", file[\"file\"], \"echo\")\n",
    "    # Create a mix of random augmentations sample from the original audio\n",
    "    mix_effect = \",\".join(\n",
    "    [\n",
    "        f\"lowpass=frequency={np.random.randint(low=500,high=800)}:poles=1\",  # apply single-pole lowpass filter\n",
    "        f\"atempo={np.random.randint(low=6,high=10)/10}\",  # reduce the speed\n",
    "        \"aecho=in_gain=0.8:out_gain=0.9:delays=200:decays=0.3|delays=400:decays=0.3\"\n",
    "        # Applying echo gives some dramatic feeling\n",
    "    ],\n",
    ")\n",
    "    mix_path = apply_effect(waveform,sr,mix_effect, file[\"file\"],\"mix\")\n",
    "    # Adding the newly created samples to the original dataset\n",
    "    new_paths = [fast_path, slow_path, highpass_path, lowpass_path, echo_path, mix_path]\n",
    "    new_data[\"file\"] += new_paths\n",
    "    new_data[\"audio\"] += [{\"path\":n_path}for n_path in new_paths]\n",
    "    new_data[\"genre\"] += [file[\"genre\"]]*len(new_paths)\n",
    "    new_data_df = pd.DataFrame(new_data)\n",
    "  new_data_df = pd.DataFrame(new_data)\n",
    "  new_data_dataset = Dataset.from_pandas(new_data_df).cast(features)\n",
    "  new_dataset = concatenate_datasets([dataset, new_data_dataset])\n",
    "  new_dataset.save_to_disk(\"updated_gtzan\")\n",
    "  return new_dataset"
   ]
  },
  {
   "cell_type": "markdown",
   "metadata": {},
   "source": [
    "Get gtzan audio files and their corresponding labels from the Hugging Face Hub and split the dataset into training, validation and test sets.  \n",
    "Then apply the augmentation scheme defined above."
   ]
  },
  {
   "cell_type": "code",
   "execution_count": 31,
   "metadata": {},
   "outputs": [
    {
     "name": "stderr",
     "output_type": "stream",
     "text": [
      "100%|██████████| 799/799 [06:28<00:00,  2.05it/s]\n",
      "Casting the dataset: 100%|██████████| 4794/4794 [00:00<00:00, 209021.95 examples/s]\n",
      "Saving the dataset (15/15 shards): 100%|██████████| 5593/5593 [02:04<00:00, 44.90 examples/s]\n"
     ]
    }
   ],
   "source": [
    "gtzan = load_dataset(\"marsyas/gtzan\", \"all\",trust_remote_code=True)\n",
    "train_rest = gtzan[\"train\"].train_test_split(seed=42, shuffle=True, test_size=0.2)\n",
    "aug_train_set = Audio_Augmentation(train_rest[\"train\"]).shuffle()\n",
    "val_test = train_rest[\"test\"].train_test_split(seed=42, shuffle=True, test_size=0.5)\n",
    "gtzan=DatasetDict({'train': train_rest[\"train\"],'val': val_test[\"train\"],'test': val_test[\"test\"]})"
   ]
  },
  {
   "cell_type": "markdown",
   "metadata": {},
   "source": [
    "Get AST feature extractor which: \n",
    "1. Extracts mel-filter bank features from raw speech.\n",
    "2. Pads/truncates the features to a fixed length.\n",
    "3. Normalizes the features(Substracting mean and dividing by the standard deviation)."
   ]
  },
  {
   "cell_type": "code",
   "execution_count": 32,
   "metadata": {},
   "outputs": [],
   "source": [
    "model_id = \"MIT/ast-finetuned-audioset-10-10-0.4593\"\n",
    "feature_extractor = AutoFeatureExtractor.from_pretrained(model_id)"
   ]
  },
  {
   "cell_type": "markdown",
   "metadata": {},
   "source": [
    "Resample the dataset according to the pretrained AST sample rate."
   ]
  },
  {
   "cell_type": "code",
   "execution_count": 33,
   "metadata": {},
   "outputs": [],
   "source": [
    "sampling_rate = feature_extractor.sampling_rate\n",
    "gtzan = gtzan.cast_column(\"audio\", Audio(sampling_rate=sampling_rate))"
   ]
  },
  {
   "cell_type": "markdown",
   "metadata": {},
   "source": [
    "Apply AST feature extractor to the datasets. "
   ]
  },
  {
   "cell_type": "code",
   "execution_count": 34,
   "metadata": {},
   "outputs": [],
   "source": [
    "max_duration = 30.0\n",
    "\n",
    "\n",
    "def preprocess_function(examples):\n",
    "    audio_arrays = [x[\"array\"] for x in examples[\"audio\"]]\n",
    "    inputs = feature_extractor(\n",
    "        audio_arrays,\n",
    "        sampling_rate=feature_extractor.sampling_rate,\n",
    "        max_length=int(feature_extractor.sampling_rate * max_duration),\n",
    "        truncation=True,\n",
    "    )\n",
    "    return inputs\n",
    "\n",
    "gtzan_encoded = gtzan.map(\n",
    "    preprocess_function,\n",
    "    remove_columns=[\"audio\", \"file\"],\n",
    "    batched=True,\n",
    "    batch_size=100,\n",
    "    num_proc=1,\n",
    ")"
   ]
  },
  {
   "cell_type": "markdown",
   "metadata": {},
   "source": [
    "Obtain the label mappings from the dataset."
   ]
  },
  {
   "cell_type": "code",
   "execution_count": 35,
   "metadata": {},
   "outputs": [],
   "source": [
    "id2label_fn = gtzan[\"train\"].features[\"genre\"].int2str\n",
    "gtzan_encoded = gtzan_encoded.rename_column(\"genre\", \"label\")\n",
    "id2label = {\n",
    "    i: id2label_fn(i)\n",
    "    for i in range(len(gtzan_encoded[\"train\"].features[\"label\"].names))\n",
    "}\n",
    "label2id = {v: k for k, v in id2label.items()}"
   ]
  },
  {
   "cell_type": "markdown",
   "metadata": {},
   "source": [
    "Create accuracy calculation function. "
   ]
  },
  {
   "cell_type": "code",
   "execution_count": 36,
   "metadata": {},
   "outputs": [],
   "source": [
    "metric = evaluate.load(\"accuracy\")\n",
    "\n",
    "\n",
    "def compute_metrics(eval_pred):\n",
    "    \"\"\"Computes accuracy on a batch of predictions\"\"\"\n",
    "    predictions = np.argmax(eval_pred.predictions, axis=1)\n",
    "    return metric.compute(predictions=predictions, references=eval_pred.label_ids)"
   ]
  },
  {
   "cell_type": "markdown",
   "metadata": {},
   "source": [
    "Get, adjust and train the AST pretrained model."
   ]
  },
  {
   "cell_type": "code",
   "execution_count": 39,
   "metadata": {},
   "outputs": [
    {
     "name": "stderr",
     "output_type": "stream",
     "text": [
      "c:\\Users\\user\\anaconda3\\envs\\tech046211\\lib\\site-packages\\accelerate\\accelerator.py:488: FutureWarning: `torch.cuda.amp.GradScaler(args...)` is deprecated. Please use `torch.amp.GradScaler('cuda', args...)` instead.\n",
      "  self.scaler = torch.cuda.amp.GradScaler(**kwargs)\n",
      " 42%|████▏     | 5/12 [00:13<00:18,  2.65s/it]"
     ]
    },
    {
     "name": "stdout",
     "output_type": "stream",
     "text": [
      "{'loss': 2.3417, 'grad_norm': 3.9334609508514404, 'learning_rate': 3.5e-05, 'epoch': 0.4}\n"
     ]
    },
    {
     "name": "stderr",
     "output_type": "stream",
     "text": [
      " 83%|████████▎ | 10/12 [00:26<00:05,  2.65s/it]"
     ]
    },
    {
     "name": "stdout",
     "output_type": "stream",
     "text": [
      "{'loss': 2.3171, 'grad_norm': 3.5491464138031006, 'learning_rate': 1e-05, 'epoch': 0.8}\n"
     ]
    },
    {
     "name": "stderr",
     "output_type": "stream",
     "text": [
      "100%|██████████| 12/12 [00:32<00:00,  2.70s/it]Some non-default generation parameters are set in the model config. These should go into a GenerationConfig file (https://huggingface.co/docs/transformers/generation_strategies#save-a-custom-decoding-strategy-with-your-model) instead. This warning will be raised to an exception in v4.41.\n",
      "Non-default generation parameters: {'max_length': 1024}\n",
      "                                               \n",
      "100%|██████████| 12/12 [00:36<00:00,  2.70s/it]Some non-default generation parameters are set in the model config. These should go into a GenerationConfig file (https://huggingface.co/docs/transformers/generation_strategies#save-a-custom-decoding-strategy-with-your-model) instead. This warning will be raised to an exception in v4.41.\n",
      "Non-default generation parameters: {'max_length': 1024}\n"
     ]
    },
    {
     "name": "stdout",
     "output_type": "stream",
     "text": [
      "{'eval_loss': 2.2722949981689453, 'eval_accuracy': 0.13, 'eval_runtime': 4.323, 'eval_samples_per_second': 23.132, 'eval_steps_per_second': 3.007, 'epoch': 0.96}\n"
     ]
    },
    {
     "name": "stderr",
     "output_type": "stream",
     "text": [
      "100%|██████████| 12/12 [00:37<00:00,  3.11s/it]\n",
      "Some non-default generation parameters are set in the model config. These should go into a GenerationConfig file (https://huggingface.co/docs/transformers/generation_strategies#save-a-custom-decoding-strategy-with-your-model) instead. This warning will be raised to an exception in v4.41.\n",
      "Non-default generation parameters: {'max_length': 1024}\n"
     ]
    },
    {
     "name": "stdout",
     "output_type": "stream",
     "text": [
      "{'train_runtime': 37.3799, 'train_samples_per_second': 21.375, 'train_steps_per_second': 0.321, 'train_loss': 2.322429656982422, 'epoch': 0.96}\n"
     ]
    },
    {
     "name": "stderr",
     "output_type": "stream",
     "text": [
      "100%|██████████| 13/13 [00:03<00:00,  3.47it/s]"
     ]
    },
    {
     "name": "stdout",
     "output_type": "stream",
     "text": [
      "Final best model evaluation set performance metrics:\n",
      "{'eval_loss': 2.2722949981689453, 'eval_accuracy': 0.13, 'eval_runtime': 4.2618, 'eval_samples_per_second': 23.464, 'eval_steps_per_second': 3.05, 'epoch': 0.96}\n"
     ]
    },
    {
     "name": "stderr",
     "output_type": "stream",
     "text": [
      "\n"
     ]
    }
   ],
   "source": [
    "#Clean cuda cache\n",
    "gc.collect()\n",
    "torch.cuda.empty_cache()\n",
    "#Define default hyperparameters\n",
    "useOptuna=False\n",
    "    #Model hyperparameters\n",
    "    #No verification actions are performed on the following model hyperparametes.\n",
    "model_config=AutoConfig.from_pretrained(model_id)\n",
    "num_labels = len(id2label)\n",
    "model_config.num_labels = num_labels\n",
    "model_config.id2label=id2label\n",
    "model_config.label2id=label2id\n",
    "model_config.to_low_rank_layer_idx=[11] #0(first layer)-11(last layer)\n",
    "model_config.low_rank_layer_rank=[2] #defines to_low_rank_layer[i] with low_rank_layer_rank[i] rank. list the same len as to_low_rank_layer.\n",
    "model_config.low_rank_layer_alpha=[8] #defines to_low_rank_layer[i] with low_rank_layer_rank[i] alpha. list the same len as to_low_rank_layer.\n",
    "model_config.dropout_rat=[0.05,0.1] # drop ratio of the two dropout layers in the classifier.\n",
    "model_config.classifier_hidden_layer_size=100\n",
    "    #Training method hyperparameters\n",
    "batch_size = 8\n",
    "gradient_accumulation_steps = 8\n",
    "num_train_epochs = 70\n",
    "learning_rate=5e-5\n",
    "warmup_ratio=0.1\n",
    "#Create a default model initialization function\n",
    "def model_init(trial):\n",
    "  return AST(model_config)\n",
    "#Instantiate a default trainer\n",
    "model_name = model_id.split(\"/\")[-1]\n",
    "training_args = TrainingArguments(\n",
    "    f\"{model_name}-finetuned-gtzan\",\n",
    "    eval_strategy=\"epoch\",\n",
    "    save_strategy=\"epoch\",\n",
    "    learning_rate=learning_rate,\n",
    "    per_device_train_batch_size=batch_size,\n",
    "    gradient_accumulation_steps=gradient_accumulation_steps,\n",
    "    per_device_eval_batch_size=batch_size,\n",
    "    num_train_epochs=num_train_epochs,\n",
    "    warmup_ratio=warmup_ratio,\n",
    "    logging_steps=5,\n",
    "    load_best_model_at_end=True,\n",
    "    metric_for_best_model=\"accuracy\",\n",
    "    fp16=True,\n",
    "    push_to_hub=False,\n",
    "    save_total_limit=5,\n",
    "    report_to='tensorboard',\n",
    ")\n",
    "trainer = Trainer(\n",
    "    model=None,\n",
    "    args=training_args,\n",
    "    train_dataset=gtzan_encoded[\"train\"].with_format(\"torch\"),\n",
    "    eval_dataset=gtzan_encoded[\"val\"].with_format(\"torch\"),\n",
    "    tokenizer=feature_extractor,\n",
    "    model_init=model_init,\n",
    "    compute_metrics=compute_metrics,\n",
    ")\n",
    "\n",
    "if useOptuna:\n",
    "# Hyperparameters search with Optuna backend over Trainer API\n",
    "    # Define searched hyperparameters \n",
    "    def optuna_hp_space(trial):\n",
    "        return {\n",
    "            \"learning_rate\": trial.suggest_float(\"learning_rate\", 1e-6, 1e-4, log=True),\n",
    "            \"per_device_train_batch_size\": trial.suggest_categorical(\"per_device_train_batch_size\", [16, 32, 64, 128]),\n",
    "            \"gradient_accumulation_steps\" : trial.suggest_categorical(\"gradient_accumulation_steps\", [1,2,4,8]),\n",
    "            \"warmup_ratio\": trial.suggest_float(\"warmup_ratio\", 0.05, 0.3),\n",
    "            \"weight_decay\": trial.suggest_float(\"weight_decay\", 0.0, 0.3),\n",
    "            \"num_train_epochs\": trial.suggest_int(\"num_train_epochs\", 45, 100),\n",
    "        }\n",
    "    # Define trails Optuna objective as evaluation set accuracy\n",
    "    def compute_objective(metrics):\n",
    "        return metrics[\"eval_accuracy\"]\n",
    "    # Define SQLite database to enable failed runs restoration\n",
    "    storage = optuna.storages.RDBStorage(\n",
    "        url=\"sqlite:///optuna_study.db\",  # Save the study to an SQLite database file\n",
    "        heartbeat_interval=60,  # Optional: To track trial status\n",
    "        grace_period=120,       # Optional: Grace period for stale trials\n",
    "    )\n",
    "    # Hyperparameters search\n",
    "    best_trial = trainer.hyperparameter_search(\n",
    "        direction=\"maximize\",\n",
    "        backend=\"optuna\",\n",
    "        hp_space=optuna_hp_space,\n",
    "        n_trials=20,\n",
    "        compute_objective=compute_objective,\n",
    "        storage=storage,  # Use the SQLite storage\n",
    "        load_if_exists=True,  # Load the study if it already exists\n",
    "        study_name=\"music_classification_on_AST_study\",  # Name of the study\n",
    "    )\n",
    "    print(f\"Best trial hyperparameters: {best_trial.hyperparameters}\")\n",
    "    print(f\"Best evaluation accuracy: {best_trial.objective}\")\n",
    "    trainer.apply_hyperparameters(best_trial.hyperparameters, final_model=True)\n",
    "#Train, save and evaluate the chosen model using the chosen trainer\n",
    "trainer.train()\n",
    "trainer.save_model('Best_Model')\n",
    "eval_metrics = trainer.evaluate()\n",
    "print(\"Final best model evaluation set performance metrics:\")\n",
    "print(eval_metrics)"
   ]
  },
  {
   "cell_type": "markdown",
   "metadata": {},
   "source": [
    "Calculate test metrics"
   ]
  },
  {
   "cell_type": "code",
   "execution_count": 40,
   "metadata": {},
   "outputs": [
    {
     "name": "stderr",
     "output_type": "stream",
     "text": [
      "100%|██████████| 13/13 [00:03<00:00,  3.42it/s]\n"
     ]
    },
    {
     "name": "stdout",
     "output_type": "stream",
     "text": [
      "{'test_loss': 2.302060604095459, 'test_accuracy': 0.11, 'test_runtime': 4.5525, 'test_samples_per_second': 21.966, 'test_steps_per_second': 2.856}\n"
     ]
    },
    {
     "data": {
      "image/png": "[encoded data removed]",
      "text/plain": [
       "<Figure size 1000x1000 with 2 Axes>"
      ]
     },
     "metadata": {},
     "output_type": "display_data"
    }
   ],
   "source": [
    "pred=trainer.predict(gtzan_encoded[\"test\"].with_format(\"torch\"))\n",
    "print(pred.metrics)\n",
    "confusion_matrix=metrics.confusion_matrix(pred.label_ids, np.argmax(pred.predictions, axis=1))\n",
    "cm_display = metrics.ConfusionMatrixDisplay(confusion_matrix = confusion_matrix, display_labels = list(label2id.keys()))\n",
    "fig, ax = plt.subplots(figsize=(10,10))\n",
    "cm_display.plot(ax=ax)\n",
    "if not os.path.exists(\"images\"):\n",
    "  os.mkdir(\"images\")\n",
    "fig.savefig(os.path.join(\"images\",\"Test_confusion_matrix.jpg\"))\n",
    "plt.show()"
   ]
  }
 ],
 "metadata": {
  "kernelspec": {
   "display_name": "Python 3 (ipykernel)",
   "language": "python",
   "name": "python3"
  },
  "language_info": {
   "codemirror_mode": {
    "name": "ipython",
    "version": 3
   },
   "file_extension": ".py",
   "mimetype": "text/x-python",
   "name": "python",
   "nbconvert_exporter": "python",
   "pygments_lexer": "ipython3",
   "version": "3.9.19"
  }
 },
 "nbformat": 4,
 "nbformat_minor": 4
}
